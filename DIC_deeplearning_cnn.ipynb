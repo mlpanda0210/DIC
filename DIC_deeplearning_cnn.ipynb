{
 "cells": [
  {
   "cell_type": "code",
   "execution_count": 1,
   "metadata": {},
   "outputs": [
    {
     "name": "stderr",
     "output_type": "stream",
     "text": [
      "Using TensorFlow backend.\n"
     ]
    }
   ],
   "source": [
    "import keras\n",
    "import numpy as np\n",
    "import matplotlib.pyplot as plt\n",
    "%matplotlib inline\n",
    "from keras.datasets import cifar10\n",
    "from keras.utils import to_categorical"
   ]
  },
  {
   "cell_type": "markdown",
   "metadata": {},
   "source": [
    "### 【課題】CNNとはどういった手法なのか記述せよ  \n",
    "CNNはディープラーニングにおける隠れ層を畳み込み層とプーリング層により構成させる。これらにより画像の抽象化を行うことができ、画像分類に対しての認識精度を高めることができる。"
   ]
  },
  {
   "cell_type": "markdown",
   "metadata": {},
   "source": [
    "### 【課題】畳み込み層とプーリング層について記述せよ  \n",
    "畳み込み層はフィルタによる特徴マップの取得を目的とし、プーリング層は畳み込み層からの出力である特徴マップを縮小して新たな特徴マップを得ることを目的とする。\n"
   ]
  },
  {
   "cell_type": "markdown",
   "metadata": {},
   "source": [
    "### 【課題】CNNの精度を向上させるためにはどのようなことをするのが良いか記述せよ  \n",
    "・なるべく多くの学習データを用意する  \n",
    "・ハイパーパラメータを適切にチューニングする  \n",
    "・dropout層を追加することにより、過学習を防ぐことができる  \n",
    "・過学習しないようにしつつ、層の数とノードの数を増やすことにより表現力を向上させる。  \n",
    "・フィルター活用後の画像に対して活性化関数を適用する  "
   ]
  },
  {
   "cell_type": "code",
   "execution_count": 2,
   "metadata": {
    "collapsed": true
   },
   "outputs": [],
   "source": [
    "(X_train, y_train), (X_test, y_test) = cifar10.load_data()"
   ]
  },
  {
   "cell_type": "code",
   "execution_count": 3,
   "metadata": {
    "collapsed": true
   },
   "outputs": [],
   "source": [
    "#画像サイズを取得\n",
    "img_rows =  X_train.shape[1]\n",
    "img_cols = X_train.shape[2]\n",
    "#分類する数を取得\n",
    "num_classes = to_categorical(y_train).shape[1]\n",
    "#入力データの形状を取得\n",
    "input_shape = (X_train.shape[1],X_train.shape[2],X_train.shape[3])"
   ]
  },
  {
   "cell_type": "code",
   "execution_count": 4,
   "metadata": {
    "collapsed": true
   },
   "outputs": [],
   "source": [
    "#正規化するコードを記述\n",
    "X_train=X_train.astype(\"float32\")\n",
    "X_test=X_test.astype(\"float32\")\n",
    "X_train /= 255.0\n",
    "X_test /= 255.0"
   ]
  },
  {
   "cell_type": "code",
   "execution_count": 5,
   "metadata": {
    "collapsed": true
   },
   "outputs": [],
   "source": [
    "#one-hot表現にするコードを記述\n",
    "y_train = to_categorical(y_train)\n",
    "y_test = to_categorical(y_test)"
   ]
  },
  {
   "cell_type": "code",
   "execution_count": 6,
   "metadata": {
    "collapsed": true
   },
   "outputs": [],
   "source": [
    "from keras.models import Sequential\n",
    "from keras.layers import Dense, Dropout, Flatten\n",
    "from keras.layers import Conv2D, MaxPooling2D, BatchNormalization\n",
    "from keras.layers import Activation"
   ]
  },
  {
   "cell_type": "code",
   "execution_count": 7,
   "metadata": {
    "collapsed": true
   },
   "outputs": [],
   "source": [
    "#### 【課題】モデルを作成\n",
    "\n",
    "model = Sequential()\n",
    "model.add(Conv2D(96,kernel_size=(11,11), padding=\"same\",input_shape=input_shape))\n",
    "model.add(Activation(\"relu\"))\n",
    "model.add(MaxPooling2D((3,3),strides=(2,2)))\n",
    "model.add(BatchNormalization())\n",
    "\n",
    "model.add(Conv2D(256,kernel_size=(5,5), padding=\"same\"))\n",
    "model.add(Activation(\"relu\"))\n",
    "model.add(MaxPooling2D((3,3),strides=(2,2)))\n",
    "model.add(BatchNormalization())\n",
    "\n",
    "model.add(Conv2D(384,kernel_size=(3,3), padding=\"same\"))\n",
    "model.add(Conv2D(384,kernel_size=(3,3), padding=\"same\"))\n",
    "model.add(Conv2D(256,kernel_size=(3,3), padding=\"same\"))\n",
    "model.add(Activation(\"relu\"))\n",
    "model.add(MaxPooling2D((3,3),strides=(2,2)))\n",
    "model.add(BatchNormalization())\n",
    "\n",
    "model.add(Flatten())\n",
    "model.add(Dense(2048))\n",
    "model.add(Activation(\"relu\"))\n",
    "model.add(Dropout(0.5))\n",
    "model.add(Dense(2048))\n",
    "model.add(Activation(\"relu\"))\n",
    "model.add(Dropout(0.5))\n",
    "model.add(Dense(num_classes))\n",
    "model.add(Activation(\"softmax\"))"
   ]
  },
  {
   "cell_type": "code",
   "execution_count": 8,
   "metadata": {},
   "outputs": [
    {
     "name": "stdout",
     "output_type": "stream",
     "text": [
      "Train on 50000 samples, validate on 10000 samples\n",
      "Epoch 1/10\n",
      "50000/50000 [==============================] - 3205s - loss: 2.0257 - acc: 0.3119 - val_loss: 1.6214 - val_acc: 0.3909\n",
      "Epoch 2/10\n",
      "50000/50000 [==============================] - 5860s - loss: 1.6061 - acc: 0.4239 - val_loss: 1.7457 - val_acc: 0.4053\n",
      "Epoch 3/10\n",
      "50000/50000 [==============================] - 3369s - loss: 1.4070 - acc: 0.5020 - val_loss: 1.3795 - val_acc: 0.5158\n",
      "Epoch 4/10\n",
      "50000/50000 [==============================] - 3258s - loss: 1.2319 - acc: 0.5686 - val_loss: 1.3009 - val_acc: 0.5379\n",
      "Epoch 5/10\n",
      "50000/50000 [==============================] - 3042s - loss: 1.0901 - acc: 0.6205 - val_loss: 1.4110 - val_acc: 0.5099\n",
      "Epoch 6/10\n",
      "50000/50000 [==============================] - 52765s - loss: 0.9676 - acc: 0.6660 - val_loss: 1.0863 - val_acc: 0.6208\n",
      "Epoch 7/10\n",
      "50000/50000 [==============================] - 3096s - loss: 0.8698 - acc: 0.7014 - val_loss: 1.2957 - val_acc: 0.5709\n",
      "Epoch 8/10\n",
      "50000/50000 [==============================] - 3626s - loss: 0.7932 - acc: 0.7270 - val_loss: 1.1626 - val_acc: 0.6302\n",
      "Epoch 9/10\n",
      "50000/50000 [==============================] - 3580s - loss: 0.7189 - acc: 0.7505 - val_loss: 0.9293 - val_acc: 0.6832\n",
      "Epoch 10/10\n",
      "50000/50000 [==============================] - 12559s - loss: 0.6662 - acc: 0.7709 - val_loss: 0.7750 - val_acc: 0.7344\n"
     ]
    },
    {
     "data": {
      "text/plain": [
       "<keras.callbacks.History at 0x11bb7aef0>"
      ]
     },
     "execution_count": 8,
     "metadata": {},
     "output_type": "execute_result"
    }
   ],
   "source": [
    "model.compile(loss=\"categorical_crossentropy\",optimizer=keras.optimizers.Adam(),metrics=[\"accuracy\"])\n",
    "epochs = 10\n",
    "batch_size = 50\n",
    "\n",
    "model.fit(X_train,y_train,batch_size=batch_size, epochs=epochs,verbose=1, validation_data=[X_test,y_test])"
   ]
  },
  {
   "cell_type": "raw",
   "metadata": {},
   "source": [
    "Train on 50000 samples, validate on 10000 samples\n",
    "Epoch 1/10\n",
    "50000/50000 [==============================] - 3205s - loss: 2.0257 - acc: 0.3119 - val_loss: 1.6214 - val_acc: 0.3909\n",
    "Epoch 2/10\n",
    "50000/50000 [==============================] - 5860s - loss: 1.6061 - acc: 0.4239 - val_loss: 1.7457 - val_acc: 0.4053\n",
    "Epoch 3/10\n",
    "50000/50000 [==============================] - 3369s - loss: 1.4070 - acc: 0.5020 - val_loss: 1.3795 - val_acc: 0.5158\n",
    "Epoch 4/10\n",
    "50000/50000 [==============================] - 3258s - loss: 1.2319 - acc: 0.5686 - val_loss: 1.3009 - val_acc: 0.5379\n",
    "Epoch 5/10\n",
    "50000/50000 [==============================] - 3042s - loss: 1.0901 - acc: 0.6205 - val_loss: 1.4110 - val_acc: 0.5099\n",
    "Epoch 6/10\n",
    "50000/50000 [==============================] - 52765s - loss: 0.9676 - acc: 0.6660 - val_loss: 1.0863 - val_acc: 0.6208\n",
    "Epoch 7/10\n",
    "50000/50000 [==============================] - 3096s - loss: 0.8698 - acc: 0.7014 - val_loss: 1.2957 - val_acc: 0.5709\n",
    "Epoch 8/10\n",
    "50000/50000 [==============================] - 3626s - loss: 0.7932 - acc: 0.7270 - val_loss: 1.1626 - val_acc: 0.6302\n",
    "Epoch 9/10\n",
    "50000/50000 [==============================] - 3580s - loss: 0.7189 - acc: 0.7505 - val_loss: 0.9293 - val_acc: 0.6832\n",
    "Epoch 10/10\n",
    "50000/50000 [==============================] - 12559s - loss: 0.6662 - acc: 0.7709 - val_loss: 0.7750 - val_acc: 0.7344\n",
    "Out[8]:\n",
    "<keras.callbacks.History at 0x11bb7aef0>"
   ]
  },
  {
   "cell_type": "code",
   "execution_count": 9,
   "metadata": {
    "collapsed": true
   },
   "outputs": [],
   "source": [
    "### 【課題】モデルを作成\n",
    "\n",
    "model1 = Sequential()\n",
    "model1.add(Conv2D(20, kernel_size=(5,5), strides=1, input_shape=input_shape))\n",
    "model1.add(Activation(\"relu\"))\n",
    "model1.add(MaxPooling2D((2,2), strides=(2,2)))\n",
    " \n",
    "model1.add(Conv2D(50, kernel_size=(5,5), strides=1))\n",
    "model1.add(Activation(\"relu\"))\n",
    "model1.add(MaxPooling2D((2,2), strides=(2,2)))\n",
    "model1.add(Dropout(0.25))\n",
    " \n",
    "model1.add(Flatten())\n",
    "model1.add(Dense(500))\n",
    "model1.add(Activation(\"relu\"))\n",
    "model1.add(Dropout(0.5))\n",
    "model1.add(Dense(num_classes))\n",
    "model1.add(Activation(\"softmax\"))"
   ]
  },
  {
   "cell_type": "code",
   "execution_count": 10,
   "metadata": {},
   "outputs": [
    {
     "name": "stdout",
     "output_type": "stream",
     "text": [
      "Train on 50000 samples, validate on 10000 samples\n",
      "Epoch 1/50\n",
      "50000/50000 [==============================] - 117s - loss: 1.5749 - acc: 0.4255 - val_loss: 1.2936 - val_acc: 0.5407\n",
      "Epoch 2/50\n",
      "50000/50000 [==============================] - 138s - loss: 1.2745 - acc: 0.5470 - val_loss: 1.1678 - val_acc: 0.5857\n",
      "Epoch 3/50\n",
      "50000/50000 [==============================] - 126s - loss: 1.1509 - acc: 0.5939 - val_loss: 1.0347 - val_acc: 0.6371\n",
      "Epoch 4/50\n",
      "50000/50000 [==============================] - 135s - loss: 1.0517 - acc: 0.6283 - val_loss: 1.0507 - val_acc: 0.6309\n",
      "Epoch 5/50\n",
      "50000/50000 [==============================] - 131s - loss: 0.9840 - acc: 0.6539 - val_loss: 0.9616 - val_acc: 0.6634\n",
      "Epoch 6/50\n",
      "50000/50000 [==============================] - 118s - loss: 0.9269 - acc: 0.6746 - val_loss: 0.9013 - val_acc: 0.6865\n",
      "Epoch 7/50\n",
      "50000/50000 [==============================] - 115s - loss: 0.8794 - acc: 0.6890 - val_loss: 0.8847 - val_acc: 0.6919\n",
      "Epoch 8/50\n",
      "50000/50000 [==============================] - 123s - loss: 0.8418 - acc: 0.7041 - val_loss: 0.8767 - val_acc: 0.6975\n",
      "Epoch 9/50\n",
      "50000/50000 [==============================] - 127s - loss: 0.8043 - acc: 0.7174 - val_loss: 0.8466 - val_acc: 0.7092\n",
      "Epoch 10/50\n",
      "50000/50000 [==============================] - 131s - loss: 0.7747 - acc: 0.7279 - val_loss: 0.8111 - val_acc: 0.7200\n",
      "Epoch 11/50\n",
      "50000/50000 [==============================] - 116s - loss: 0.7477 - acc: 0.7354 - val_loss: 0.8284 - val_acc: 0.7185\n",
      "Epoch 12/50\n",
      "50000/50000 [==============================] - 122s - loss: 0.7234 - acc: 0.7448 - val_loss: 0.8265 - val_acc: 0.7157\n",
      "Epoch 13/50\n",
      "50000/50000 [==============================] - 124s - loss: 0.6941 - acc: 0.7542 - val_loss: 0.7844 - val_acc: 0.7320\n",
      "Epoch 14/50\n",
      "50000/50000 [==============================] - 127s - loss: 0.6847 - acc: 0.7593 - val_loss: 0.7961 - val_acc: 0.7308\n",
      "Epoch 15/50\n",
      "50000/50000 [==============================] - 143s - loss: 0.6602 - acc: 0.7656 - val_loss: 0.8034 - val_acc: 0.7260\n",
      "Epoch 16/50\n",
      "50000/50000 [==============================] - 125s - loss: 0.6561 - acc: 0.7659 - val_loss: 0.8128 - val_acc: 0.7251\n",
      "Epoch 17/50\n",
      "50000/50000 [==============================] - 124s - loss: 0.6340 - acc: 0.7762 - val_loss: 0.8055 - val_acc: 0.7314\n",
      "Epoch 18/50\n",
      "50000/50000 [==============================] - 108s - loss: 0.6137 - acc: 0.7834 - val_loss: 0.7891 - val_acc: 0.7342\n",
      "Epoch 19/50\n",
      "50000/50000 [==============================] - 107s - loss: 0.6043 - acc: 0.7850 - val_loss: 0.8072 - val_acc: 0.7308\n",
      "Epoch 20/50\n",
      "50000/50000 [==============================] - 113s - loss: 0.5931 - acc: 0.7874 - val_loss: 0.8022 - val_acc: 0.7330\n",
      "Epoch 21/50\n",
      "50000/50000 [==============================] - 116s - loss: 0.5755 - acc: 0.7948 - val_loss: 0.7930 - val_acc: 0.7352\n",
      "Epoch 22/50\n",
      "50000/50000 [==============================] - 128s - loss: 0.5758 - acc: 0.7963 - val_loss: 0.8008 - val_acc: 0.7362\n",
      "Epoch 23/50\n",
      "50000/50000 [==============================] - 117s - loss: 0.5635 - acc: 0.7995 - val_loss: 0.7843 - val_acc: 0.7360\n",
      "Epoch 24/50\n",
      "50000/50000 [==============================] - 124s - loss: 0.5524 - acc: 0.8052 - val_loss: 0.8160 - val_acc: 0.7278\n",
      "Epoch 25/50\n",
      "50000/50000 [==============================] - 137s - loss: 0.5325 - acc: 0.8088 - val_loss: 0.8233 - val_acc: 0.7294\n",
      "Epoch 26/50\n",
      "50000/50000 [==============================] - 130s - loss: 0.5346 - acc: 0.8095 - val_loss: 0.8037 - val_acc: 0.7374\n",
      "Epoch 27/50\n",
      "50000/50000 [==============================] - 132s - loss: 0.5209 - acc: 0.8146 - val_loss: 0.8119 - val_acc: 0.7305\n",
      "Epoch 28/50\n",
      "50000/50000 [==============================] - 126s - loss: 0.5171 - acc: 0.8147 - val_loss: 0.8226 - val_acc: 0.7273\n",
      "Epoch 29/50\n",
      "50000/50000 [==============================] - 127s - loss: 0.5122 - acc: 0.8197 - val_loss: 0.8152 - val_acc: 0.7355\n",
      "Epoch 30/50\n",
      "50000/50000 [==============================] - 127s - loss: 0.5012 - acc: 0.8228 - val_loss: 0.8051 - val_acc: 0.7417\n",
      "Epoch 31/50\n",
      "50000/50000 [==============================] - 131s - loss: 0.5028 - acc: 0.8204 - val_loss: 0.8034 - val_acc: 0.7351\n",
      "Epoch 32/50\n",
      "50000/50000 [==============================] - 137s - loss: 0.4967 - acc: 0.8249 - val_loss: 0.8165 - val_acc: 0.7345\n",
      "Epoch 33/50\n",
      "50000/50000 [==============================] - 163s - loss: 0.4775 - acc: 0.8293 - val_loss: 0.8010 - val_acc: 0.7367\n",
      "Epoch 34/50\n",
      "50000/50000 [==============================] - 160s - loss: 0.4833 - acc: 0.8283 - val_loss: 0.8368 - val_acc: 0.7344\n",
      "Epoch 35/50\n",
      "50000/50000 [==============================] - 164s - loss: 0.4749 - acc: 0.8328 - val_loss: 0.8257 - val_acc: 0.7323\n",
      "Epoch 36/50\n",
      "50000/50000 [==============================] - 175s - loss: 0.4636 - acc: 0.8354 - val_loss: 0.8261 - val_acc: 0.7378\n",
      "Epoch 37/50\n",
      "50000/50000 [==============================] - 158s - loss: 0.4614 - acc: 0.8363 - val_loss: 0.8019 - val_acc: 0.7425\n",
      "Epoch 38/50\n",
      "50000/50000 [==============================] - 155s - loss: 0.4558 - acc: 0.8393 - val_loss: 0.8206 - val_acc: 0.7369\n",
      "Epoch 39/50\n",
      "50000/50000 [==============================] - 123s - loss: 0.4563 - acc: 0.8373 - val_loss: 0.8289 - val_acc: 0.7409\n",
      "Epoch 40/50\n",
      "50000/50000 [==============================] - 125s - loss: 0.4522 - acc: 0.8399 - val_loss: 0.8285 - val_acc: 0.7386\n",
      "Epoch 41/50\n",
      "50000/50000 [==============================] - 135s - loss: 0.4411 - acc: 0.8456 - val_loss: 0.8524 - val_acc: 0.7265\n",
      "Epoch 42/50\n",
      "50000/50000 [==============================] - 122s - loss: 0.4434 - acc: 0.8440 - val_loss: 0.8323 - val_acc: 0.7322\n",
      "Epoch 43/50\n",
      "50000/50000 [==============================] - 128s - loss: 0.4377 - acc: 0.8464 - val_loss: 0.8514 - val_acc: 0.7358\n",
      "Epoch 44/50\n",
      "50000/50000 [==============================] - 135s - loss: 0.4291 - acc: 0.8480 - val_loss: 0.8192 - val_acc: 0.7443\n",
      "Epoch 45/50\n",
      "50000/50000 [==============================] - 126s - loss: 0.4309 - acc: 0.8490 - val_loss: 0.8469 - val_acc: 0.7293\n",
      "Epoch 46/50\n",
      "50000/50000 [==============================] - 134s - loss: 0.4276 - acc: 0.8481 - val_loss: 0.8454 - val_acc: 0.7332\n",
      "Epoch 47/50\n",
      "50000/50000 [==============================] - 123s - loss: 0.4323 - acc: 0.8493 - val_loss: 0.8575 - val_acc: 0.7371\n",
      "Epoch 48/50\n",
      "50000/50000 [==============================] - 122s - loss: 0.4248 - acc: 0.8505 - val_loss: 0.8626 - val_acc: 0.7299\n",
      "Epoch 49/50\n",
      "50000/50000 [==============================] - 131s - loss: 0.4138 - acc: 0.8544 - val_loss: 0.8892 - val_acc: 0.7323\n",
      "Epoch 50/50\n",
      "50000/50000 [==============================] - 146s - loss: 0.4131 - acc: 0.8565 - val_loss: 0.8688 - val_acc: 0.7425\n"
     ]
    },
    {
     "data": {
      "text/plain": [
       "<keras.callbacks.History at 0x124e36b70>"
      ]
     },
     "execution_count": 10,
     "metadata": {},
     "output_type": "execute_result"
    }
   ],
   "source": [
    "model1.compile(loss=\"categorical_crossentropy\",optimizer=keras.optimizers.Adam(),metrics=[\"accuracy\"])\n",
    "epochs = 50\n",
    "batch_size = 50\n",
    "\n",
    "model1.fit(X_train,y_train,batch_size=batch_size, epochs=epochs,verbose=1, validation_data=[X_test,y_test])"
   ]
  },
  {
   "cell_type": "markdown",
   "metadata": {
    "collapsed": true
   },
   "source": [
    "### 【課題】このようなモデルにした理由　  \n",
    "以上の２つは　AlexNetとLeNetをアレンジしたもの。LeNetはdropout層を追加することで最終的な認識精度を87%近くまで高めることができた"
   ]
  },
  {
   "cell_type": "markdown",
   "metadata": {},
   "source": []
  },
  {
   "cell_type": "markdown",
   "metadata": {
    "collapsed": true
   },
   "source": []
  },
  {
   "cell_type": "code",
   "execution_count": null,
   "metadata": {
    "collapsed": true
   },
   "outputs": [],
   "source": []
  }
 ],
 "metadata": {
  "kernelspec": {
   "display_name": "Python 3",
   "language": "python",
   "name": "python3"
  },
  "language_info": {
   "codemirror_mode": {
    "name": "ipython",
    "version": 3
   },
   "file_extension": ".py",
   "mimetype": "text/x-python",
   "name": "python",
   "nbconvert_exporter": "python",
   "pygments_lexer": "ipython3",
   "version": "3.6.0"
  }
 },
 "nbformat": 4,
 "nbformat_minor": 2
}
