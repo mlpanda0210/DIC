{
 "cells": [
  {
   "cell_type": "code",
   "execution_count": null,
   "metadata": {
    "collapsed": true
   },
   "outputs": [],
   "source": [
    "import pandas as pd\n",
    "from sklearn.datasets import make_blobs\n",
    "from sklearn.cluster import KMeans\n",
    "import matplotlib.pyplot as plt\n",
    "\n",
    "X, y = make_blobs(n_samples=100, n_features=20, centers=15, cluster_std=2.0, shuffle=True, random_state=0)\n",
    "variables = ['辛さ','重厚','スパイシー','果実味','コク','酸味','落ち着き','香り','華やか','ジューシー','熟成','透明感','シャープ','力強い','フレッシュ','渋み','苦味','樽','エキゾチック','粘性']\n",
    "name = list(map(str,[i for i in range(100)]))\n",
    "df = pd.DataFrame(X, columns=variables, index=name)\n",
    "\n",
    "SSE=[]\n",
    "for i in range(1,30):\n",
    "    km=KMeans(n_clusters=i,init='random',n_init=10,max_iter=300,tol=1e-04, random_state=0)\n",
    "    km.fit(X)\n",
    "    SSE.append(km.inertia_)\n",
    "\n",
    "plt.plot(range(1,30),SSE,marker='o')\n",
    "plt.xlabel('k')\n",
    "plt.ylabel('SSE')\n",
    "plt.show()\n",
    "\n",
    "print(\"k-SSEのグラフを見るとk=14をすぎるとSSE曲線の勾配が緩やかになる。これは14種類以上増やすことはそれ以下の種類よりも増やす効果が少ないので、14種類のワインを用意することを提案する\")\n"
   ]
  }
 ],
 "metadata": {
  "kernelspec": {
   "display_name": "Python 3",
   "language": "python",
   "name": "python3"
  },
  "language_info": {
   "codemirror_mode": {
    "name": "ipython",
    "version": 3
   },
   "file_extension": ".py",
   "mimetype": "text/x-python",
   "name": "python",
   "nbconvert_exporter": "python",
   "pygments_lexer": "ipython3",
   "version": "3.6.0"
  }
 },
 "nbformat": 4,
 "nbformat_minor": 2
}
